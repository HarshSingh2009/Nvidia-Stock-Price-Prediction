{
  "cells": [
    {
      "cell_type": "markdown",
      "metadata": {
        "id": "sojV2kxsihcn"
      },
      "source": [
        "# **NVIDIA Stock Price Forecasting**\n",
        "> 🤔 In this project we are going to develop a Deep Learning Model `NvidiaNET` that will be predicting on NVIDIA stock previous 20 years of data"
      ]
    },
    {
      "cell_type": "code",
      "execution_count": 1,
      "metadata": {
        "id": "JQjWZk94kNZJ"
      },
      "outputs": [],
      "source": [
        "import pandas as pd\n",
        "import numpy as np\n",
        "import matplotlib.pyplot as plt\n",
        "import seaborn as sns\n",
        "import tensorflow as tf"
      ]
    },
    {
      "cell_type": "markdown",
      "metadata": {
        "id": "z4l2Q8-1ihiH"
      },
      "source": [
        "## Loading, Exploring and Visualizing Data"
      ]
    },
    {
      "cell_type": "code",
      "execution_count": 3,
      "metadata": {
        "id": "OZG7TcIykTqO"
      },
      "outputs": [],
      "source": [
        "df = pd.read_csv('NVDA.csv') "
      ]
    },
    {
      "cell_type": "code",
      "execution_count": 4,
      "metadata": {
        "colab": {
          "base_uri": "https://localhost:8080/",
          "height": 206
        },
        "id": "vgi2KyAGkd7e",
        "outputId": "f1033666-2852-4188-ee73-52d96cb2a774"
      },
      "outputs": [
        {
          "data": {
            "text/html": [
              "\n",
              "  <div id=\"df-188d1172-3eca-440d-9bfe-58612129cd83\" class=\"colab-df-container\">\n",
              "    <div>\n",
              "<style scoped>\n",
              "    .dataframe tbody tr th:only-of-type {\n",
              "        vertical-align: middle;\n",
              "    }\n",
              "\n",
              "    .dataframe tbody tr th {\n",
              "        vertical-align: top;\n",
              "    }\n",
              "\n",
              "    .dataframe thead th {\n",
              "        text-align: right;\n",
              "    }\n",
              "</style>\n",
              "<table border=\"1\" class=\"dataframe\">\n",
              "  <thead>\n",
              "    <tr style=\"text-align: right;\">\n",
              "      <th></th>\n",
              "      <th>Date</th>\n",
              "      <th>Open</th>\n",
              "      <th>High</th>\n",
              "      <th>Low</th>\n",
              "      <th>Close</th>\n",
              "      <th>Adj Close</th>\n",
              "      <th>Volume</th>\n",
              "    </tr>\n",
              "  </thead>\n",
              "  <tbody>\n",
              "    <tr>\n",
              "      <th>0</th>\n",
              "      <td>2003-08-25</td>\n",
              "      <td>1.550833</td>\n",
              "      <td>1.550833</td>\n",
              "      <td>1.500000</td>\n",
              "      <td>1.513333</td>\n",
              "      <td>1.388485</td>\n",
              "      <td>43402800</td>\n",
              "    </tr>\n",
              "    <tr>\n",
              "      <th>1</th>\n",
              "      <td>2003-08-26</td>\n",
              "      <td>1.494167</td>\n",
              "      <td>1.516667</td>\n",
              "      <td>1.448333</td>\n",
              "      <td>1.489167</td>\n",
              "      <td>1.366313</td>\n",
              "      <td>76898400</td>\n",
              "    </tr>\n",
              "    <tr>\n",
              "      <th>2</th>\n",
              "      <td>2003-08-27</td>\n",
              "      <td>1.499167</td>\n",
              "      <td>1.550000</td>\n",
              "      <td>1.483333</td>\n",
              "      <td>1.534167</td>\n",
              "      <td>1.407600</td>\n",
              "      <td>56781600</td>\n",
              "    </tr>\n",
              "    <tr>\n",
              "      <th>3</th>\n",
              "      <td>2003-08-28</td>\n",
              "      <td>1.549167</td>\n",
              "      <td>1.557500</td>\n",
              "      <td>1.476667</td>\n",
              "      <td>1.494167</td>\n",
              "      <td>1.370901</td>\n",
              "      <td>82831200</td>\n",
              "    </tr>\n",
              "    <tr>\n",
              "      <th>4</th>\n",
              "      <td>2003-08-29</td>\n",
              "      <td>1.491667</td>\n",
              "      <td>1.520833</td>\n",
              "      <td>1.485833</td>\n",
              "      <td>1.514167</td>\n",
              "      <td>1.389251</td>\n",
              "      <td>53288400</td>\n",
              "    </tr>\n",
              "  </tbody>\n",
              "</table>\n",
              "</div>\n",
              "    <div class=\"colab-df-buttons\">\n",
              "\n",
              "  <div class=\"colab-df-container\">\n",
              "    <button class=\"colab-df-convert\" onclick=\"convertToInteractive('df-188d1172-3eca-440d-9bfe-58612129cd83')\"\n",
              "            title=\"Convert this dataframe to an interactive table.\"\n",
              "            style=\"display:none;\">\n",
              "\n",
              "  <svg xmlns=\"http://www.w3.org/2000/svg\" height=\"24px\" viewBox=\"0 -960 960 960\">\n",
              "    <path d=\"M120-120v-720h720v720H120Zm60-500h600v-160H180v160Zm220 220h160v-160H400v160Zm0 220h160v-160H400v160ZM180-400h160v-160H180v160Zm440 0h160v-160H620v160ZM180-180h160v-160H180v160Zm440 0h160v-160H620v160Z\"/>\n",
              "  </svg>\n",
              "    </button>\n",
              "\n",
              "  <style>\n",
              "    .colab-df-container {\n",
              "      display:flex;\n",
              "      gap: 12px;\n",
              "    }\n",
              "\n",
              "    .colab-df-convert {\n",
              "      background-color: #E8F0FE;\n",
              "      border: none;\n",
              "      border-radius: 50%;\n",
              "      cursor: pointer;\n",
              "      display: none;\n",
              "      fill: #1967D2;\n",
              "      height: 32px;\n",
              "      padding: 0 0 0 0;\n",
              "      width: 32px;\n",
              "    }\n",
              "\n",
              "    .colab-df-convert:hover {\n",
              "      background-color: #E2EBFA;\n",
              "      box-shadow: 0px 1px 2px rgba(60, 64, 67, 0.3), 0px 1px 3px 1px rgba(60, 64, 67, 0.15);\n",
              "      fill: #174EA6;\n",
              "    }\n",
              "\n",
              "    .colab-df-buttons div {\n",
              "      margin-bottom: 4px;\n",
              "    }\n",
              "\n",
              "    [theme=dark] .colab-df-convert {\n",
              "      background-color: #3B4455;\n",
              "      fill: #D2E3FC;\n",
              "    }\n",
              "\n",
              "    [theme=dark] .colab-df-convert:hover {\n",
              "      background-color: #434B5C;\n",
              "      box-shadow: 0px 1px 3px 1px rgba(0, 0, 0, 0.15);\n",
              "      filter: drop-shadow(0px 1px 2px rgba(0, 0, 0, 0.3));\n",
              "      fill: #FFFFFF;\n",
              "    }\n",
              "  </style>\n",
              "\n",
              "    <script>\n",
              "      const buttonEl =\n",
              "        document.querySelector('#df-188d1172-3eca-440d-9bfe-58612129cd83 button.colab-df-convert');\n",
              "      buttonEl.style.display =\n",
              "        google.colab.kernel.accessAllowed ? 'block' : 'none';\n",
              "\n",
              "      async function convertToInteractive(key) {\n",
              "        const element = document.querySelector('#df-188d1172-3eca-440d-9bfe-58612129cd83');\n",
              "        const dataTable =\n",
              "          await google.colab.kernel.invokeFunction('convertToInteractive',\n",
              "                                                    [key], {});\n",
              "        if (!dataTable) return;\n",
              "\n",
              "        const docLinkHtml = 'Like what you see? Visit the ' +\n",
              "          '<a target=\"_blank\" href=https://colab.research.google.com/notebooks/data_table.ipynb>data table notebook</a>'\n",
              "          + ' to learn more about interactive tables.';\n",
              "        element.innerHTML = '';\n",
              "        dataTable['output_type'] = 'display_data';\n",
              "        await google.colab.output.renderOutput(dataTable, element);\n",
              "        const docLink = document.createElement('div');\n",
              "        docLink.innerHTML = docLinkHtml;\n",
              "        element.appendChild(docLink);\n",
              "      }\n",
              "    </script>\n",
              "  </div>\n",
              "\n",
              "\n",
              "<div id=\"df-c91e3904-603d-489d-8055-183f1e8baffe\">\n",
              "  <button class=\"colab-df-quickchart\" onclick=\"quickchart('df-c91e3904-603d-489d-8055-183f1e8baffe')\"\n",
              "            title=\"Suggest charts.\"\n",
              "            style=\"display:none;\">\n",
              "\n",
              "<svg xmlns=\"http://www.w3.org/2000/svg\" height=\"24px\"viewBox=\"0 0 24 24\"\n",
              "     width=\"24px\">\n",
              "    <g>\n",
              "        <path d=\"M19 3H5c-1.1 0-2 .9-2 2v14c0 1.1.9 2 2 2h14c1.1 0 2-.9 2-2V5c0-1.1-.9-2-2-2zM9 17H7v-7h2v7zm4 0h-2V7h2v10zm4 0h-2v-4h2v4z\"/>\n",
              "    </g>\n",
              "</svg>\n",
              "  </button>\n",
              "\n",
              "<style>\n",
              "  .colab-df-quickchart {\n",
              "    background-color: #E8F0FE;\n",
              "    border: none;\n",
              "    border-radius: 50%;\n",
              "    cursor: pointer;\n",
              "    display: none;\n",
              "    fill: #1967D2;\n",
              "    height: 32px;\n",
              "    padding: 0 0 0 0;\n",
              "    width: 32px;\n",
              "  }\n",
              "\n",
              "  .colab-df-quickchart:hover {\n",
              "    background-color: #E2EBFA;\n",
              "    box-shadow: 0px 1px 2px rgba(60, 64, 67, 0.3), 0px 1px 3px 1px rgba(60, 64, 67, 0.15);\n",
              "    fill: #174EA6;\n",
              "  }\n",
              "\n",
              "  [theme=dark] .colab-df-quickchart {\n",
              "    background-color: #3B4455;\n",
              "    fill: #D2E3FC;\n",
              "  }\n",
              "\n",
              "  [theme=dark] .colab-df-quickchart:hover {\n",
              "    background-color: #434B5C;\n",
              "    box-shadow: 0px 1px 3px 1px rgba(0, 0, 0, 0.15);\n",
              "    filter: drop-shadow(0px 1px 2px rgba(0, 0, 0, 0.3));\n",
              "    fill: #FFFFFF;\n",
              "  }\n",
              "</style>\n",
              "\n",
              "  <script>\n",
              "    async function quickchart(key) {\n",
              "      const charts = await google.colab.kernel.invokeFunction(\n",
              "          'suggestCharts', [key], {});\n",
              "    }\n",
              "    (() => {\n",
              "      let quickchartButtonEl =\n",
              "        document.querySelector('#df-c91e3904-603d-489d-8055-183f1e8baffe button');\n",
              "      quickchartButtonEl.style.display =\n",
              "        google.colab.kernel.accessAllowed ? 'block' : 'none';\n",
              "    })();\n",
              "  </script>\n",
              "</div>\n",
              "    </div>\n",
              "  </div>\n"
            ],
            "text/plain": [
              "         Date      Open      High       Low     Close  Adj Close    Volume\n",
              "0  2003-08-25  1.550833  1.550833  1.500000  1.513333   1.388485  43402800\n",
              "1  2003-08-26  1.494167  1.516667  1.448333  1.489167   1.366313  76898400\n",
              "2  2003-08-27  1.499167  1.550000  1.483333  1.534167   1.407600  56781600\n",
              "3  2003-08-28  1.549167  1.557500  1.476667  1.494167   1.370901  82831200\n",
              "4  2003-08-29  1.491667  1.520833  1.485833  1.514167   1.389251  53288400"
            ]
          },
          "execution_count": 4,
          "metadata": {},
          "output_type": "execute_result"
        }
      ],
      "source": [
        "df.head()"
      ]
    },
    {
      "cell_type": "code",
      "execution_count": 5,
      "metadata": {
        "colab": {
          "base_uri": "https://localhost:8080/"
        },
        "id": "jKFch1EDkeGH",
        "outputId": "135845b8-0413-4cfc-be64-970f52360bf5"
      },
      "outputs": [
        {
          "data": {
            "text/plain": [
              "(5035, 7)"
            ]
          },
          "execution_count": 5,
          "metadata": {},
          "output_type": "execute_result"
        }
      ],
      "source": [
        "df.shape"
      ]
    },
    {
      "cell_type": "code",
      "execution_count": 6,
      "metadata": {
        "colab": {
          "base_uri": "https://localhost:8080/",
          "height": 206
        },
        "id": "6tZ43GvikeIo",
        "outputId": "9c74f0f9-933b-4bce-8475-19183a5e8db5"
      },
      "outputs": [
        {
          "data": {
            "text/html": [
              "\n",
              "  <div id=\"df-d5f9d313-07f8-4e7d-b73c-b11e7d956f79\" class=\"colab-df-container\">\n",
              "    <div>\n",
              "<style scoped>\n",
              "    .dataframe tbody tr th:only-of-type {\n",
              "        vertical-align: middle;\n",
              "    }\n",
              "\n",
              "    .dataframe tbody tr th {\n",
              "        vertical-align: top;\n",
              "    }\n",
              "\n",
              "    .dataframe thead th {\n",
              "        text-align: right;\n",
              "    }\n",
              "</style>\n",
              "<table border=\"1\" class=\"dataframe\">\n",
              "  <thead>\n",
              "    <tr style=\"text-align: right;\">\n",
              "      <th></th>\n",
              "      <th>Date</th>\n",
              "      <th>Open</th>\n",
              "      <th>High</th>\n",
              "      <th>Low</th>\n",
              "      <th>Close</th>\n",
              "      <th>Adj Close</th>\n",
              "      <th>Volume</th>\n",
              "    </tr>\n",
              "  </thead>\n",
              "  <tbody>\n",
              "    <tr>\n",
              "      <th>5030</th>\n",
              "      <td>2023-08-18</td>\n",
              "      <td>426.350006</td>\n",
              "      <td>435.779999</td>\n",
              "      <td>416.600006</td>\n",
              "      <td>432.989990</td>\n",
              "      <td>432.989990</td>\n",
              "      <td>58262200</td>\n",
              "    </tr>\n",
              "    <tr>\n",
              "      <th>5031</th>\n",
              "      <td>2023-08-21</td>\n",
              "      <td>444.940002</td>\n",
              "      <td>470.649994</td>\n",
              "      <td>442.220001</td>\n",
              "      <td>469.670013</td>\n",
              "      <td>469.670013</td>\n",
              "      <td>69257300</td>\n",
              "    </tr>\n",
              "    <tr>\n",
              "      <th>5032</th>\n",
              "      <td>2023-08-22</td>\n",
              "      <td>481.350006</td>\n",
              "      <td>481.869995</td>\n",
              "      <td>453.329987</td>\n",
              "      <td>456.679993</td>\n",
              "      <td>456.679993</td>\n",
              "      <td>75720700</td>\n",
              "    </tr>\n",
              "    <tr>\n",
              "      <th>5033</th>\n",
              "      <td>2023-08-23</td>\n",
              "      <td>458.660004</td>\n",
              "      <td>472.000000</td>\n",
              "      <td>452.079987</td>\n",
              "      <td>471.160004</td>\n",
              "      <td>471.160004</td>\n",
              "      <td>77904600</td>\n",
              "    </tr>\n",
              "    <tr>\n",
              "      <th>5034</th>\n",
              "      <td>2023-08-24</td>\n",
              "      <td>502.160004</td>\n",
              "      <td>502.660004</td>\n",
              "      <td>471.589996</td>\n",
              "      <td>471.630005</td>\n",
              "      <td>471.630005</td>\n",
              "      <td>115274400</td>\n",
              "    </tr>\n",
              "  </tbody>\n",
              "</table>\n",
              "</div>\n",
              "    <div class=\"colab-df-buttons\">\n",
              "\n",
              "  <div class=\"colab-df-container\">\n",
              "    <button class=\"colab-df-convert\" onclick=\"convertToInteractive('df-d5f9d313-07f8-4e7d-b73c-b11e7d956f79')\"\n",
              "            title=\"Convert this dataframe to an interactive table.\"\n",
              "            style=\"display:none;\">\n",
              "\n",
              "  <svg xmlns=\"http://www.w3.org/2000/svg\" height=\"24px\" viewBox=\"0 -960 960 960\">\n",
              "    <path d=\"M120-120v-720h720v720H120Zm60-500h600v-160H180v160Zm220 220h160v-160H400v160Zm0 220h160v-160H400v160ZM180-400h160v-160H180v160Zm440 0h160v-160H620v160ZM180-180h160v-160H180v160Zm440 0h160v-160H620v160Z\"/>\n",
              "  </svg>\n",
              "    </button>\n",
              "\n",
              "  <style>\n",
              "    .colab-df-container {\n",
              "      display:flex;\n",
              "      gap: 12px;\n",
              "    }\n",
              "\n",
              "    .colab-df-convert {\n",
              "      background-color: #E8F0FE;\n",
              "      border: none;\n",
              "      border-radius: 50%;\n",
              "      cursor: pointer;\n",
              "      display: none;\n",
              "      fill: #1967D2;\n",
              "      height: 32px;\n",
              "      padding: 0 0 0 0;\n",
              "      width: 32px;\n",
              "    }\n",
              "\n",
              "    .colab-df-convert:hover {\n",
              "      background-color: #E2EBFA;\n",
              "      box-shadow: 0px 1px 2px rgba(60, 64, 67, 0.3), 0px 1px 3px 1px rgba(60, 64, 67, 0.15);\n",
              "      fill: #174EA6;\n",
              "    }\n",
              "\n",
              "    .colab-df-buttons div {\n",
              "      margin-bottom: 4px;\n",
              "    }\n",
              "\n",
              "    [theme=dark] .colab-df-convert {\n",
              "      background-color: #3B4455;\n",
              "      fill: #D2E3FC;\n",
              "    }\n",
              "\n",
              "    [theme=dark] .colab-df-convert:hover {\n",
              "      background-color: #434B5C;\n",
              "      box-shadow: 0px 1px 3px 1px rgba(0, 0, 0, 0.15);\n",
              "      filter: drop-shadow(0px 1px 2px rgba(0, 0, 0, 0.3));\n",
              "      fill: #FFFFFF;\n",
              "    }\n",
              "  </style>\n",
              "\n",
              "    <script>\n",
              "      const buttonEl =\n",
              "        document.querySelector('#df-d5f9d313-07f8-4e7d-b73c-b11e7d956f79 button.colab-df-convert');\n",
              "      buttonEl.style.display =\n",
              "        google.colab.kernel.accessAllowed ? 'block' : 'none';\n",
              "\n",
              "      async function convertToInteractive(key) {\n",
              "        const element = document.querySelector('#df-d5f9d313-07f8-4e7d-b73c-b11e7d956f79');\n",
              "        const dataTable =\n",
              "          await google.colab.kernel.invokeFunction('convertToInteractive',\n",
              "                                                    [key], {});\n",
              "        if (!dataTable) return;\n",
              "\n",
              "        const docLinkHtml = 'Like what you see? Visit the ' +\n",
              "          '<a target=\"_blank\" href=https://colab.research.google.com/notebooks/data_table.ipynb>data table notebook</a>'\n",
              "          + ' to learn more about interactive tables.';\n",
              "        element.innerHTML = '';\n",
              "        dataTable['output_type'] = 'display_data';\n",
              "        await google.colab.output.renderOutput(dataTable, element);\n",
              "        const docLink = document.createElement('div');\n",
              "        docLink.innerHTML = docLinkHtml;\n",
              "        element.appendChild(docLink);\n",
              "      }\n",
              "    </script>\n",
              "  </div>\n",
              "\n",
              "\n",
              "<div id=\"df-55bbea85-9f84-400a-bb90-42d6b5560a06\">\n",
              "  <button class=\"colab-df-quickchart\" onclick=\"quickchart('df-55bbea85-9f84-400a-bb90-42d6b5560a06')\"\n",
              "            title=\"Suggest charts.\"\n",
              "            style=\"display:none;\">\n",
              "\n",
              "<svg xmlns=\"http://www.w3.org/2000/svg\" height=\"24px\"viewBox=\"0 0 24 24\"\n",
              "     width=\"24px\">\n",
              "    <g>\n",
              "        <path d=\"M19 3H5c-1.1 0-2 .9-2 2v14c0 1.1.9 2 2 2h14c1.1 0 2-.9 2-2V5c0-1.1-.9-2-2-2zM9 17H7v-7h2v7zm4 0h-2V7h2v10zm4 0h-2v-4h2v4z\"/>\n",
              "    </g>\n",
              "</svg>\n",
              "  </button>\n",
              "\n",
              "<style>\n",
              "  .colab-df-quickchart {\n",
              "    background-color: #E8F0FE;\n",
              "    border: none;\n",
              "    border-radius: 50%;\n",
              "    cursor: pointer;\n",
              "    display: none;\n",
              "    fill: #1967D2;\n",
              "    height: 32px;\n",
              "    padding: 0 0 0 0;\n",
              "    width: 32px;\n",
              "  }\n",
              "\n",
              "  .colab-df-quickchart:hover {\n",
              "    background-color: #E2EBFA;\n",
              "    box-shadow: 0px 1px 2px rgba(60, 64, 67, 0.3), 0px 1px 3px 1px rgba(60, 64, 67, 0.15);\n",
              "    fill: #174EA6;\n",
              "  }\n",
              "\n",
              "  [theme=dark] .colab-df-quickchart {\n",
              "    background-color: #3B4455;\n",
              "    fill: #D2E3FC;\n",
              "  }\n",
              "\n",
              "  [theme=dark] .colab-df-quickchart:hover {\n",
              "    background-color: #434B5C;\n",
              "    box-shadow: 0px 1px 3px 1px rgba(0, 0, 0, 0.15);\n",
              "    filter: drop-shadow(0px 1px 2px rgba(0, 0, 0, 0.3));\n",
              "    fill: #FFFFFF;\n",
              "  }\n",
              "</style>\n",
              "\n",
              "  <script>\n",
              "    async function quickchart(key) {\n",
              "      const charts = await google.colab.kernel.invokeFunction(\n",
              "          'suggestCharts', [key], {});\n",
              "    }\n",
              "    (() => {\n",
              "      let quickchartButtonEl =\n",
              "        document.querySelector('#df-55bbea85-9f84-400a-bb90-42d6b5560a06 button');\n",
              "      quickchartButtonEl.style.display =\n",
              "        google.colab.kernel.accessAllowed ? 'block' : 'none';\n",
              "    })();\n",
              "  </script>\n",
              "</div>\n",
              "    </div>\n",
              "  </div>\n"
            ],
            "text/plain": [
              "            Date        Open        High         Low       Close   Adj Close  \\\n",
              "5030  2023-08-18  426.350006  435.779999  416.600006  432.989990  432.989990   \n",
              "5031  2023-08-21  444.940002  470.649994  442.220001  469.670013  469.670013   \n",
              "5032  2023-08-22  481.350006  481.869995  453.329987  456.679993  456.679993   \n",
              "5033  2023-08-23  458.660004  472.000000  452.079987  471.160004  471.160004   \n",
              "5034  2023-08-24  502.160004  502.660004  471.589996  471.630005  471.630005   \n",
              "\n",
              "         Volume  \n",
              "5030   58262200  \n",
              "5031   69257300  \n",
              "5032   75720700  \n",
              "5033   77904600  \n",
              "5034  115274400  "
            ]
          },
          "execution_count": 6,
          "metadata": {},
          "output_type": "execute_result"
        }
      ],
      "source": [
        "df.tail()"
      ]
    },
    {
      "cell_type": "code",
      "execution_count": 7,
      "metadata": {
        "id": "VTpl4ig8mMiG"
      },
      "outputs": [],
      "source": [
        "## convert our Date to datetime object\n",
        "df['Date'] = pd.to_datetime(df['Date'])"
      ]
    },
    {
      "cell_type": "code",
      "execution_count": 8,
      "metadata": {
        "colab": {
          "base_uri": "https://localhost:8080/",
          "height": 206
        },
        "id": "ewZ2uv-Jmlee",
        "outputId": "85a677d1-b42e-43e3-8ef2-f067821cacdd"
      },
      "outputs": [
        {
          "data": {
            "text/html": [
              "\n",
              "  <div id=\"df-a648264e-c5d1-45d2-ac8f-80e32e30c25c\" class=\"colab-df-container\">\n",
              "    <div>\n",
              "<style scoped>\n",
              "    .dataframe tbody tr th:only-of-type {\n",
              "        vertical-align: middle;\n",
              "    }\n",
              "\n",
              "    .dataframe tbody tr th {\n",
              "        vertical-align: top;\n",
              "    }\n",
              "\n",
              "    .dataframe thead th {\n",
              "        text-align: right;\n",
              "    }\n",
              "</style>\n",
              "<table border=\"1\" class=\"dataframe\">\n",
              "  <thead>\n",
              "    <tr style=\"text-align: right;\">\n",
              "      <th></th>\n",
              "      <th>Date</th>\n",
              "      <th>Open</th>\n",
              "      <th>High</th>\n",
              "      <th>Low</th>\n",
              "      <th>Close</th>\n",
              "      <th>Adj Close</th>\n",
              "      <th>Volume</th>\n",
              "    </tr>\n",
              "  </thead>\n",
              "  <tbody>\n",
              "    <tr>\n",
              "      <th>0</th>\n",
              "      <td>2003-08-25</td>\n",
              "      <td>1.550833</td>\n",
              "      <td>1.550833</td>\n",
              "      <td>1.500000</td>\n",
              "      <td>1.513333</td>\n",
              "      <td>1.388485</td>\n",
              "      <td>43402800</td>\n",
              "    </tr>\n",
              "    <tr>\n",
              "      <th>1</th>\n",
              "      <td>2003-08-26</td>\n",
              "      <td>1.494167</td>\n",
              "      <td>1.516667</td>\n",
              "      <td>1.448333</td>\n",
              "      <td>1.489167</td>\n",
              "      <td>1.366313</td>\n",
              "      <td>76898400</td>\n",
              "    </tr>\n",
              "    <tr>\n",
              "      <th>2</th>\n",
              "      <td>2003-08-27</td>\n",
              "      <td>1.499167</td>\n",
              "      <td>1.550000</td>\n",
              "      <td>1.483333</td>\n",
              "      <td>1.534167</td>\n",
              "      <td>1.407600</td>\n",
              "      <td>56781600</td>\n",
              "    </tr>\n",
              "    <tr>\n",
              "      <th>3</th>\n",
              "      <td>2003-08-28</td>\n",
              "      <td>1.549167</td>\n",
              "      <td>1.557500</td>\n",
              "      <td>1.476667</td>\n",
              "      <td>1.494167</td>\n",
              "      <td>1.370901</td>\n",
              "      <td>82831200</td>\n",
              "    </tr>\n",
              "    <tr>\n",
              "      <th>4</th>\n",
              "      <td>2003-08-29</td>\n",
              "      <td>1.491667</td>\n",
              "      <td>1.520833</td>\n",
              "      <td>1.485833</td>\n",
              "      <td>1.514167</td>\n",
              "      <td>1.389251</td>\n",
              "      <td>53288400</td>\n",
              "    </tr>\n",
              "  </tbody>\n",
              "</table>\n",
              "</div>\n",
              "    <div class=\"colab-df-buttons\">\n",
              "\n",
              "  <div class=\"colab-df-container\">\n",
              "    <button class=\"colab-df-convert\" onclick=\"convertToInteractive('df-a648264e-c5d1-45d2-ac8f-80e32e30c25c')\"\n",
              "            title=\"Convert this dataframe to an interactive table.\"\n",
              "            style=\"display:none;\">\n",
              "\n",
              "  <svg xmlns=\"http://www.w3.org/2000/svg\" height=\"24px\" viewBox=\"0 -960 960 960\">\n",
              "    <path d=\"M120-120v-720h720v720H120Zm60-500h600v-160H180v160Zm220 220h160v-160H400v160Zm0 220h160v-160H400v160ZM180-400h160v-160H180v160Zm440 0h160v-160H620v160ZM180-180h160v-160H180v160Zm440 0h160v-160H620v160Z\"/>\n",
              "  </svg>\n",
              "    </button>\n",
              "\n",
              "  <style>\n",
              "    .colab-df-container {\n",
              "      display:flex;\n",
              "      gap: 12px;\n",
              "    }\n",
              "\n",
              "    .colab-df-convert {\n",
              "      background-color: #E8F0FE;\n",
              "      border: none;\n",
              "      border-radius: 50%;\n",
              "      cursor: pointer;\n",
              "      display: none;\n",
              "      fill: #1967D2;\n",
              "      height: 32px;\n",
              "      padding: 0 0 0 0;\n",
              "      width: 32px;\n",
              "    }\n",
              "\n",
              "    .colab-df-convert:hover {\n",
              "      background-color: #E2EBFA;\n",
              "      box-shadow: 0px 1px 2px rgba(60, 64, 67, 0.3), 0px 1px 3px 1px rgba(60, 64, 67, 0.15);\n",
              "      fill: #174EA6;\n",
              "    }\n",
              "\n",
              "    .colab-df-buttons div {\n",
              "      margin-bottom: 4px;\n",
              "    }\n",
              "\n",
              "    [theme=dark] .colab-df-convert {\n",
              "      background-color: #3B4455;\n",
              "      fill: #D2E3FC;\n",
              "    }\n",
              "\n",
              "    [theme=dark] .colab-df-convert:hover {\n",
              "      background-color: #434B5C;\n",
              "      box-shadow: 0px 1px 3px 1px rgba(0, 0, 0, 0.15);\n",
              "      filter: drop-shadow(0px 1px 2px rgba(0, 0, 0, 0.3));\n",
              "      fill: #FFFFFF;\n",
              "    }\n",
              "  </style>\n",
              "\n",
              "    <script>\n",
              "      const buttonEl =\n",
              "        document.querySelector('#df-a648264e-c5d1-45d2-ac8f-80e32e30c25c button.colab-df-convert');\n",
              "      buttonEl.style.display =\n",
              "        google.colab.kernel.accessAllowed ? 'block' : 'none';\n",
              "\n",
              "      async function convertToInteractive(key) {\n",
              "        const element = document.querySelector('#df-a648264e-c5d1-45d2-ac8f-80e32e30c25c');\n",
              "        const dataTable =\n",
              "          await google.colab.kernel.invokeFunction('convertToInteractive',\n",
              "                                                    [key], {});\n",
              "        if (!dataTable) return;\n",
              "\n",
              "        const docLinkHtml = 'Like what you see? Visit the ' +\n",
              "          '<a target=\"_blank\" href=https://colab.research.google.com/notebooks/data_table.ipynb>data table notebook</a>'\n",
              "          + ' to learn more about interactive tables.';\n",
              "        element.innerHTML = '';\n",
              "        dataTable['output_type'] = 'display_data';\n",
              "        await google.colab.output.renderOutput(dataTable, element);\n",
              "        const docLink = document.createElement('div');\n",
              "        docLink.innerHTML = docLinkHtml;\n",
              "        element.appendChild(docLink);\n",
              "      }\n",
              "    </script>\n",
              "  </div>\n",
              "\n",
              "\n",
              "<div id=\"df-c5e29133-959c-456f-af2a-50d6482e55e3\">\n",
              "  <button class=\"colab-df-quickchart\" onclick=\"quickchart('df-c5e29133-959c-456f-af2a-50d6482e55e3')\"\n",
              "            title=\"Suggest charts.\"\n",
              "            style=\"display:none;\">\n",
              "\n",
              "<svg xmlns=\"http://www.w3.org/2000/svg\" height=\"24px\"viewBox=\"0 0 24 24\"\n",
              "     width=\"24px\">\n",
              "    <g>\n",
              "        <path d=\"M19 3H5c-1.1 0-2 .9-2 2v14c0 1.1.9 2 2 2h14c1.1 0 2-.9 2-2V5c0-1.1-.9-2-2-2zM9 17H7v-7h2v7zm4 0h-2V7h2v10zm4 0h-2v-4h2v4z\"/>\n",
              "    </g>\n",
              "</svg>\n",
              "  </button>\n",
              "\n",
              "<style>\n",
              "  .colab-df-quickchart {\n",
              "    background-color: #E8F0FE;\n",
              "    border: none;\n",
              "    border-radius: 50%;\n",
              "    cursor: pointer;\n",
              "    display: none;\n",
              "    fill: #1967D2;\n",
              "    height: 32px;\n",
              "    padding: 0 0 0 0;\n",
              "    width: 32px;\n",
              "  }\n",
              "\n",
              "  .colab-df-quickchart:hover {\n",
              "    background-color: #E2EBFA;\n",
              "    box-shadow: 0px 1px 2px rgba(60, 64, 67, 0.3), 0px 1px 3px 1px rgba(60, 64, 67, 0.15);\n",
              "    fill: #174EA6;\n",
              "  }\n",
              "\n",
              "  [theme=dark] .colab-df-quickchart {\n",
              "    background-color: #3B4455;\n",
              "    fill: #D2E3FC;\n",
              "  }\n",
              "\n",
              "  [theme=dark] .colab-df-quickchart:hover {\n",
              "    background-color: #434B5C;\n",
              "    box-shadow: 0px 1px 3px 1px rgba(0, 0, 0, 0.15);\n",
              "    filter: drop-shadow(0px 1px 2px rgba(0, 0, 0, 0.3));\n",
              "    fill: #FFFFFF;\n",
              "  }\n",
              "</style>\n",
              "\n",
              "  <script>\n",
              "    async function quickchart(key) {\n",
              "      const charts = await google.colab.kernel.invokeFunction(\n",
              "          'suggestCharts', [key], {});\n",
              "    }\n",
              "    (() => {\n",
              "      let quickchartButtonEl =\n",
              "        document.querySelector('#df-c5e29133-959c-456f-af2a-50d6482e55e3 button');\n",
              "      quickchartButtonEl.style.display =\n",
              "        google.colab.kernel.accessAllowed ? 'block' : 'none';\n",
              "    })();\n",
              "  </script>\n",
              "</div>\n",
              "    </div>\n",
              "  </div>\n"
            ],
            "text/plain": [
              "        Date      Open      High       Low     Close  Adj Close    Volume\n",
              "0 2003-08-25  1.550833  1.550833  1.500000  1.513333   1.388485  43402800\n",
              "1 2003-08-26  1.494167  1.516667  1.448333  1.489167   1.366313  76898400\n",
              "2 2003-08-27  1.499167  1.550000  1.483333  1.534167   1.407600  56781600\n",
              "3 2003-08-28  1.549167  1.557500  1.476667  1.494167   1.370901  82831200\n",
              "4 2003-08-29  1.491667  1.520833  1.485833  1.514167   1.389251  53288400"
            ]
          },
          "execution_count": 8,
          "metadata": {},
          "output_type": "execute_result"
        }
      ],
      "source": [
        "df.head()"
      ]
    },
    {
      "cell_type": "code",
      "execution_count": 9,
      "metadata": {
        "colab": {
          "base_uri": "https://localhost:8080/"
        },
        "id": "a7mbOOudmm0G",
        "outputId": "95b42708-9037-4cb5-e329-ac2db530fe4b"
      },
      "outputs": [
        {
          "name": "stdout",
          "output_type": "stream",
          "text": [
            "<class 'pandas.core.frame.DataFrame'>\n",
            "RangeIndex: 5035 entries, 0 to 5034\n",
            "Data columns (total 7 columns):\n",
            " #   Column     Non-Null Count  Dtype         \n",
            "---  ------     --------------  -----         \n",
            " 0   Date       5035 non-null   datetime64[ns]\n",
            " 1   Open       5035 non-null   float64       \n",
            " 2   High       5035 non-null   float64       \n",
            " 3   Low        5035 non-null   float64       \n",
            " 4   Close      5035 non-null   float64       \n",
            " 5   Adj Close  5035 non-null   float64       \n",
            " 6   Volume     5035 non-null   int64         \n",
            "dtypes: datetime64[ns](1), float64(5), int64(1)\n",
            "memory usage: 275.5 KB\n"
          ]
        }
      ],
      "source": [
        "df.info()"
      ]
    },
    {
      "cell_type": "code",
      "execution_count": 10,
      "metadata": {
        "colab": {
          "base_uri": "https://localhost:8080/",
          "height": 470
        },
        "id": "WiE6CSMYkeLD",
        "outputId": "3627b360-04ec-4757-bd1e-75b2874f9676"
      },
      "outputs": [
        {
          "data": {
            "text/plain": [
              "<Axes: title={'center': 'NVIDIA Stock Close Price'}>"
            ]
          },
          "execution_count": 10,
          "metadata": {},
          "output_type": "execute_result"
        },
        {
          "data": {
            "image/png": "[encoded data removed]",
            "text/plain": [
              "<Figure size 640x480 with 1 Axes>"
            ]
          },
          "metadata": {},
          "output_type": "display_data"
        }
      ],
      "source": [
        "plt.grid()\n",
        "df['Close'].plot(title='NVIDIA Stock Close Price', color='green')"
      ]
    },
    {
      "cell_type": "code",
      "execution_count": 11,
      "metadata": {
        "id": "b15kf3wdkeSs"
      },
      "outputs": [],
      "source": [
        "X = df['Close']"
      ]
    },
    {
      "cell_type": "code",
      "execution_count": 12,
      "metadata": {
        "colab": {
          "base_uri": "https://localhost:8080/"
        },
        "id": "4-DmVcLAm6Eq",
        "outputId": "ae89279a-72fa-47d5-dbb4-5b9bc2cd4e5c"
      },
      "outputs": [
        {
          "data": {
            "text/plain": [
              "0         1.513333\n",
              "1         1.489167\n",
              "2         1.534167\n",
              "3         1.494167\n",
              "4         1.514167\n",
              "           ...    \n",
              "5030    432.989990\n",
              "5031    469.670013\n",
              "5032    456.679993\n",
              "5033    471.160004\n",
              "5034    471.630005\n",
              "Name: Close, Length: 5035, dtype: float64"
            ]
          },
          "execution_count": 12,
          "metadata": {},
          "output_type": "execute_result"
        }
      ],
      "source": [
        "X"
      ]
    },
    {
      "cell_type": "code",
      "execution_count": 13,
      "metadata": {
        "colab": {
          "base_uri": "https://localhost:8080/"
        },
        "id": "cm1UWgPNm68Z",
        "outputId": "265daf10-fa8d-4d26-9071-7f2a38dcb6e5"
      },
      "outputs": [
        {
          "data": {
            "text/plain": [
              "(5035,)"
            ]
          },
          "execution_count": 13,
          "metadata": {},
          "output_type": "execute_result"
        }
      ],
      "source": [
        "X.shape"
      ]
    },
    {
      "cell_type": "markdown",
      "metadata": {
        "id": "h4DQuAynihkf"
      },
      "source": [
        "## MinMax Scaling"
      ]
    },
    {
      "cell_type": "code",
      "execution_count": 14,
      "metadata": {
        "id": "B7VNhZn0BD09"
      },
      "outputs": [],
      "source": [
        "from sklearn.preprocessing import MinMaxScaler\n",
        "scaler = MinMaxScaler()\n",
        "X_scaled = scaler.fit_transform(np.array(X).reshape(-1, 1))"
      ]
    },
    {
      "cell_type": "code",
      "execution_count": 15,
      "metadata": {
        "colab": {
          "base_uri": "https://localhost:8080/"
        },
        "id": "vF9DCjgOGx1T",
        "outputId": "5cc0b5be-d32b-4136-ada5-c2d44b085a98"
      },
      "outputs": [
        {
          "data": {
            "text/plain": [
              "array([[0.00153431],\n",
              "       [0.00148334],\n",
              "       [0.00157825],\n",
              "       ...,\n",
              "       [0.9614893 ],\n",
              "       [0.99202791],\n",
              "       [0.99301915]])"
            ]
          },
          "execution_count": 15,
          "metadata": {},
          "output_type": "execute_result"
        }
      ],
      "source": [
        "X_scaled"
      ]
    },
    {
      "cell_type": "markdown",
      "metadata": {
        "id": "CUvTTzl7lO0e"
      },
      "source": [
        "## Performing Training and Testing Splits"
      ]
    },
    {
      "cell_type": "code",
      "execution_count": 16,
      "metadata": {
        "id": "brnMlk8HpCKh"
      },
      "outputs": [],
      "source": [
        "def time_series_splits(data, train_size:float):\n",
        "  train_size = int(len(data)*train_size)\n",
        "  train_data = data[:train_size]\n",
        "  test_data = data[train_size:]\n",
        "  return train_data, test_data"
      ]
    },
    {
      "cell_type": "code",
      "execution_count": 17,
      "metadata": {
        "id": "FhNsgN2RpUie"
      },
      "outputs": [],
      "source": [
        "train_data, test_data = time_series_splits(X_scaled, 0.95)"
      ]
    },
    {
      "cell_type": "code",
      "execution_count": 18,
      "metadata": {
        "colab": {
          "base_uri": "https://localhost:8080/"
        },
        "id": "nBnKpFuPpmHJ",
        "outputId": "9937e7ca-ab63-44c7-85ee-297035625e5d"
      },
      "outputs": [
        {
          "data": {
            "text/plain": [
              "((4783, 1), (252, 1))"
            ]
          },
          "execution_count": 18,
          "metadata": {},
          "output_type": "execute_result"
        }
      ],
      "source": [
        "train_data.shape, test_data.shape"
      ]
    },
    {
      "cell_type": "code",
      "execution_count": 19,
      "metadata": {
        "colab": {
          "base_uri": "https://localhost:8080/",
          "height": 448
        },
        "id": "V6wFQu2-_9Mk",
        "outputId": "b5e41fe9-251f-4a27-c480-d28e63c55698"
      },
      "outputs": [
        {
          "data": {
            "text/plain": [
              "[<matplotlib.lines.Line2D at 0x7be35447fd90>]"
            ]
          },
          "execution_count": 19,
          "metadata": {},
          "output_type": "execute_result"
        },
        {
          "data": {
            "image/png": "[encoded data removed]",
            "text/plain": [
              "<Figure size 640x480 with 1 Axes>"
            ]
          },
          "metadata": {},
          "output_type": "display_data"
        }
      ],
      "source": [
        "## visualizing our data\n",
        "plt.plot(df['Date'][:4783], train_data)\n",
        "plt.plot(df['Date'][4783:], test_data)"
      ]
    },
    {
      "cell_type": "markdown",
      "metadata": {
        "id": "mNXlCjxUihmv"
      },
      "source": [
        "## Converting into Windows and Horizons\n",
        "> We want to convert our data like this :\n",
        "* [1, 2, 3, 4, 5, 6, 7] -> [8]\n",
        "* [2, 3, 4, 5 ,6, 7, 8] -> [9]"
      ]
    },
    {
      "cell_type": "code",
      "execution_count": 20,
      "metadata": {
        "id": "_Y63nUe9owV9"
      },
      "outputs": [],
      "source": [
        "def to_sequences(data, window_size=7, horizon=1):\n",
        "  X = []\n",
        "  y = []\n",
        "  for i in range(len(data)-(window_size+horizon)):\n",
        "    X.append(data[i:i+window_size, 0])\n",
        "    y.append(data[i+window_size, 0])\n",
        "\n",
        "  return np.array(X), np.array(y)"
      ]
    },
    {
      "cell_type": "code",
      "execution_count": 21,
      "metadata": {
        "id": "bIgWSqNfqCPc"
      },
      "outputs": [],
      "source": [
        "trainX, trainY = to_sequences(train_data, window_size=7, horizon=1)\n",
        "testX, testY = to_sequences(test_data, window_size=7, horizon=1)"
      ]
    },
    {
      "cell_type": "code",
      "execution_count": 22,
      "metadata": {
        "colab": {
          "base_uri": "https://localhost:8080/"
        },
        "id": "4fG4MeJfqrF1",
        "outputId": "c7c61c1f-63cc-4425-9894-bbea7eafb80f"
      },
      "outputs": [
        {
          "data": {
            "text/plain": [
              "(4775, 7)"
            ]
          },
          "execution_count": 22,
          "metadata": {},
          "output_type": "execute_result"
        }
      ],
      "source": [
        "trainX.shape"
      ]
    },
    {
      "cell_type": "code",
      "execution_count": 23,
      "metadata": {
        "colab": {
          "base_uri": "https://localhost:8080/"
        },
        "id": "l_m0l4fZrJ39",
        "outputId": "ee124d1e-7234-43ec-ade4-d5199cc460d9"
      },
      "outputs": [
        {
          "data": {
            "text/plain": [
              "array([0.00153431, 0.00148334, 0.00157825, 0.00149389, 0.00153607,\n",
              "       0.00150795, 0.00144644])"
            ]
          },
          "execution_count": 23,
          "metadata": {},
          "output_type": "execute_result"
        }
      ],
      "source": [
        "trainX[0]"
      ]
    },
    {
      "cell_type": "code",
      "execution_count": 24,
      "metadata": {
        "colab": {
          "base_uri": "https://localhost:8080/"
        },
        "id": "uWWn-vB2rPom",
        "outputId": "752fdf79-0296-4a45-e7cf-af228775181e"
      },
      "outputs": [
        {
          "data": {
            "text/plain": [
              "0.0014763130765597045"
            ]
          },
          "execution_count": 24,
          "metadata": {},
          "output_type": "execute_result"
        }
      ],
      "source": [
        "trainY[0]"
      ]
    },
    {
      "cell_type": "code",
      "execution_count": 25,
      "metadata": {
        "colab": {
          "base_uri": "https://localhost:8080/"
        },
        "id": "Rjnwu7pDrVgv",
        "outputId": "475a5e6c-d065-488a-e586-567e10ad2a3f"
      },
      "outputs": [
        {
          "name": "stdout",
          "output_type": "stream",
          "text": [
            "Train X : [[179.419998]\n",
            " [187.089996]\n",
            " [190.320007]\n",
            " [188.789993]\n",
            " [183.350006]\n",
            " [187.729996]\n",
            " [178.490005]]\n",
            "Train Y : [[170.339996]]\n"
          ]
        }
      ],
      "source": [
        "print(f'Train X : {scaler.inverse_transform(trainX[-1].reshape(-1, 1))}')\n",
        "print(f'Train Y : {scaler.inverse_transform(trainY[-1].reshape(-1, 1))}')"
      ]
    },
    {
      "cell_type": "code",
      "execution_count": 26,
      "metadata": {
        "colab": {
          "base_uri": "https://localhost:8080/"
        },
        "id": "Q2KkoFfDsKqd",
        "outputId": "98e09ef7-4a77-4f8b-f6a0-4663412404a5"
      },
      "outputs": [
        {
          "data": {
            "text/plain": [
              "((4775, 7), (4775,), (244, 7), (244,))"
            ]
          },
          "execution_count": 26,
          "metadata": {},
          "output_type": "execute_result"
        }
      ],
      "source": [
        "trainX.shape, trainY.shape, testX.shape, testY.shape"
      ]
    },
    {
      "cell_type": "code",
      "execution_count": 27,
      "metadata": {
        "id": "jGjBVff_rvzH"
      },
      "outputs": [],
      "source": [
        "trainX = np.reshape(trainX, (trainX.shape[0], 1, trainX.shape[1]))\n",
        "testX = np.reshape(testX, (testX.shape[0], 1, testX.shape[1]))"
      ]
    },
    {
      "cell_type": "code",
      "execution_count": 28,
      "metadata": {
        "colab": {
          "base_uri": "https://localhost:8080/"
        },
        "id": "xriDfquTtSsM",
        "outputId": "b071200c-05b2-420e-d8ec-516277a07042"
      },
      "outputs": [
        {
          "data": {
            "text/plain": [
              "((4775, 1, 7), (244, 1, 7))"
            ]
          },
          "execution_count": 28,
          "metadata": {},
          "output_type": "execute_result"
        }
      ],
      "source": [
        "trainX.shape, testX.shape"
      ]
    },
    {
      "cell_type": "markdown",
      "metadata": {
        "id": "CgjvU5nkuaA8"
      },
      "source": [
        "## Setting up callbacks"
      ]
    },
    {
      "cell_type": "code",
      "execution_count": 29,
      "metadata": {
        "id": "cMhI30Tuuebk"
      },
      "outputs": [],
      "source": [
        "import os\n",
        "\n",
        "# Create a function to implement a ModelCheckpoint callback with a specific filename\n",
        "def create_model_checkpoint(model_name, save_path=\"model_experiments\"):\n",
        "  return tf.keras.callbacks.ModelCheckpoint(filepath=os.path.join(save_path, model_name), # create filepath to save model\n",
        "                                            verbose=0, # only output a limited amount of text\n",
        "                                            save_best_only=True) # save only the best model to file"
      ]
    },
    {
      "cell_type": "code",
      "execution_count": 30,
      "metadata": {
        "id": "ZGpJw0wnuedp"
      },
      "outputs": [],
      "source": [
        "import datetime\n",
        "def create_tensorboard_callback(dir_name, experiment_name):\n",
        "  \"\"\"\n",
        "  Creates a TensorBoard callback instand to store log files.\n",
        "\n",
        "  Stores log files with the filepath:\n",
        "    \"dir_name/experiment_name/current_datetime/\"\n",
        "\n",
        "  Args:\n",
        "    dir_name: target directory to store TensorBoard log files\n",
        "    experiment_name: name of experiment directory (e.g. efficientnet_model_1)\n",
        "  \"\"\"\n",
        "  log_dir = dir_name + \"/\" + experiment_name + \"/\" + datetime.datetime.now().strftime(\"%Y%m%d-%H%M%S\")\n",
        "  tensorboard_callback = tf.keras.callbacks.TensorBoard(\n",
        "      log_dir=log_dir\n",
        "  )\n",
        "  print(f\"Saving TensorBoard log files to: {log_dir}\")\n",
        "  return tensorboard_callback"
      ]
    },
    {
      "cell_type": "markdown",
      "metadata": {
        "id": "_sheRMp1ihpX"
      },
      "source": [
        "## Modelling Experiments"
      ]
    },
    {
      "cell_type": "code",
      "execution_count": 31,
      "metadata": {
        "id": "9FmrxzIYtXA_"
      },
      "outputs": [],
      "source": [
        "import tensorflow as tf\n",
        "from tensorflow import keras\n",
        "from keras.models import Sequential\n",
        "from keras.layers import Bidirectional, LSTM, Dense, Conv1D, MaxPooling1D, Flatten, Dropout"
      ]
    },
    {
      "cell_type": "code",
      "execution_count": 32,
      "metadata": {
        "id": "MyuDHUpjruGv"
      },
      "outputs": [],
      "source": [
        "# Model 1\n",
        "lstm_model = Sequential()\n",
        "lstm_model.add(LSTM(128, activation='tanh', return_sequences=True))\n",
        "lstm_model.add(LSTM(128, activation='tanh'))\n",
        "lstm_model.add(Dense(128, activation='relu'))\n",
        "lstm_model.add(Dense(64, activation='relu'))\n",
        "lstm_model.add(Dense(32, activation='relu'))\n",
        "lstm_model.add(Dense(1, activation='linear'))\n",
        "\n",
        "# compile model\n",
        "lstm_model.compile(\n",
        "    loss='mse',\n",
        "    optimizer=tf.keras.optimizers.Adam(),\n",
        "    metrics=['mse']\n",
        ")"
      ]
    },
    {
      "cell_type": "code",
      "execution_count": 33,
      "metadata": {
        "colab": {
          "base_uri": "https://localhost:8080/"
        },
        "id": "Ly5b44i3u18p",
        "outputId": "fd28648b-b6dc-4f8b-921e-93de127529c7"
      },
      "outputs": [
        {
          "name": "stdout",
          "output_type": "stream",
          "text": [
            "Saving TensorBoard log files to: NVIDIA STOCK Price/LSTM Model/20230825-061924\n",
            "Epoch 1/50\n",
            "143/150 [===========================>..] - ETA: 0s - loss: 0.0023 - mse: 0.0023"
          ]
        },
        {
          "name": "stderr",
          "output_type": "stream",
          "text": [
            "WARNING:absl:Found untraced functions such as _update_step_xla, lstm_cell_layer_call_fn, lstm_cell_layer_call_and_return_conditional_losses, lstm_cell_1_layer_call_fn, lstm_cell_1_layer_call_and_return_conditional_losses while saving (showing 5 of 5). These functions will not be directly callable after loading.\n"
          ]
        },
        {
          "name": "stdout",
          "output_type": "stream",
          "text": [
            "\b\b\b\b\b\b\b\b\b\b\b\b\b\b\b\b\b\b\b\b\b\b\b\b\b\b\b\b\b\b\b\b\b\b\b\b\b\b\b\b\b\b\b\b\b\b\b\b\b\b\b\b\b\b\b\b\b\b\b\b\b\b\b\b\b\b\b\b\b\b\b\b\b\b\b\b\b\b\b\r150/150 [==============================] - 20s 64ms/step - loss: 0.0022 - mse: 0.0022 - val_loss: 9.3821e-04 - val_mse: 9.3821e-04\n",
            "Epoch 2/50\n",
            "150/150 [==============================] - 1s 6ms/step - loss: 1.0801e-04 - mse: 1.0801e-04 - val_loss: 0.0021 - val_mse: 0.0021\n",
            "Epoch 3/50\n",
            "150/150 [==============================] - 1s 6ms/step - loss: 8.2702e-05 - mse: 8.2702e-05 - val_loss: 0.0034 - val_mse: 0.0034\n",
            "Epoch 4/50\n",
            "150/150 [==============================] - 1s 6ms/step - loss: 8.3566e-05 - mse: 8.3566e-05 - val_loss: 0.0012 - val_mse: 0.0012\n",
            "Epoch 5/50\n",
            "148/150 [============================>.] - ETA: 0s - loss: 8.0026e-05 - mse: 8.0026e-05"
          ]
        },
        {
          "name": "stderr",
          "output_type": "stream",
          "text": [
            "WARNING:absl:Found untraced functions such as _update_step_xla, lstm_cell_layer_call_fn, lstm_cell_layer_call_and_return_conditional_losses, lstm_cell_1_layer_call_fn, lstm_cell_1_layer_call_and_return_conditional_losses while saving (showing 5 of 5). These functions will not be directly callable after loading.\n"
          ]
        },
        {
          "name": "stdout",
          "output_type": "stream",
          "text": [
            "\b\b\b\b\b\b\b\b\b\b\b\b\b\b\b\b\b\b\b\b\b\b\b\b\b\b\b\b\b\b\b\b\b\b\b\b\b\b\b\b\b\b\b\b\b\b\b\b\b\b\b\b\b\b\b\b\b\b\b\b\b\b\b\b\b\b\b\b\b\b\b\b\b\b\b\b\b\b\b\b\b\b\b\b\b\b\b\r150/150 [==============================] - 9s 60ms/step - loss: 7.9907e-05 - mse: 7.9907e-05 - val_loss: 7.0446e-04 - val_mse: 7.0446e-04\n",
            "Epoch 6/50\n",
            "150/150 [==============================] - 1s 7ms/step - loss: 7.0125e-05 - mse: 7.0125e-05 - val_loss: 8.2747e-04 - val_mse: 8.2747e-04\n",
            "Epoch 7/50\n",
            "149/150 [============================>.] - ETA: 0s - loss: 6.4326e-05 - mse: 6.4326e-05"
          ]
        },
        {
          "name": "stderr",
          "output_type": "stream",
          "text": [
            "WARNING:absl:Found untraced functions such as _update_step_xla, lstm_cell_layer_call_fn, lstm_cell_layer_call_and_return_conditional_losses, lstm_cell_1_layer_call_fn, lstm_cell_1_layer_call_and_return_conditional_losses while saving (showing 5 of 5). These functions will not be directly callable after loading.\n"
          ]
        },
        {
          "name": "stdout",
          "output_type": "stream",
          "text": [
            "\b\b\b\b\b\b\b\b\b\b\b\b\b\b\b\b\b\b\b\b\b\b\b\b\b\b\b\b\b\b\b\b\b\b\b\b\b\b\b\b\b\b\b\b\b\b\b\b\b\b\b\b\b\b\b\b\b\b\b\b\b\b\b\b\b\b\b\b\b\b\b\b\b\b\b\b\b\b\b\b\b\b\b\b\b\b\b\r150/150 [==============================] - 8s 55ms/step - loss: 6.4286e-05 - mse: 6.4286e-05 - val_loss: 6.1106e-04 - val_mse: 6.1106e-04\n",
            "Epoch 8/50\n",
            "150/150 [==============================] - 1s 9ms/step - loss: 5.6339e-05 - mse: 5.6339e-05 - val_loss: 6.7016e-04 - val_mse: 6.7016e-04\n",
            "Epoch 9/50\n",
            "150/150 [==============================] - 1s 8ms/step - loss: 6.5062e-05 - mse: 6.5062e-05 - val_loss: 0.0020 - val_mse: 0.0020\n",
            "Epoch 10/50\n",
            "150/150 [==============================] - 1s 6ms/step - loss: 7.1782e-05 - mse: 7.1782e-05 - val_loss: 0.0010 - val_mse: 0.0010\n",
            "Epoch 11/50\n",
            "150/150 [==============================] - 1s 6ms/step - loss: 5.3265e-05 - mse: 5.3265e-05 - val_loss: 0.0010 - val_mse: 0.0010\n",
            "Epoch 12/50\n",
            "150/150 [==============================] - ETA: 0s - loss: 7.2063e-05 - mse: 7.2063e-05"
          ]
        },
        {
          "name": "stderr",
          "output_type": "stream",
          "text": [
            "WARNING:absl:Found untraced functions such as _update_step_xla, lstm_cell_layer_call_fn, lstm_cell_layer_call_and_return_conditional_losses, lstm_cell_1_layer_call_fn, lstm_cell_1_layer_call_and_return_conditional_losses while saving (showing 5 of 5). These functions will not be directly callable after loading.\n"
          ]
        },
        {
          "name": "stdout",
          "output_type": "stream",
          "text": [
            "\b\b\b\b\b\b\b\b\b\b\b\b\b\b\b\b\b\b\b\b\b\b\b\b\b\b\b\b\b\b\b\b\b\b\b\b\b\b\b\b\b\b\b\b\b\b\b\b\b\b\b\b\b\b\b\b\b\b\b\b\b\b\b\b\b\b\b\b\b\b\b\b\b\b\b\b\b\b\b\b\b\b\b\b\b\b\b\r150/150 [==============================] - 8s 52ms/step - loss: 7.2063e-05 - mse: 7.2063e-05 - val_loss: 4.6568e-04 - val_mse: 4.6568e-04\n",
            "Epoch 13/50\n",
            "150/150 [==============================] - 1s 9ms/step - loss: 4.7660e-05 - mse: 4.7660e-05 - val_loss: 0.0017 - val_mse: 0.0017\n",
            "Epoch 14/50\n",
            "150/150 [==============================] - 1s 8ms/step - loss: 5.2552e-05 - mse: 5.2552e-05 - val_loss: 5.0385e-04 - val_mse: 5.0385e-04\n",
            "Epoch 15/50\n",
            "150/150 [==============================] - 1s 6ms/step - loss: 4.2803e-05 - mse: 4.2803e-05 - val_loss: 0.0011 - val_mse: 0.0011\n",
            "Epoch 16/50\n",
            "150/150 [==============================] - 1s 6ms/step - loss: 4.9423e-05 - mse: 4.9423e-05 - val_loss: 5.1206e-04 - val_mse: 5.1206e-04\n",
            "Epoch 17/50\n",
            "150/150 [==============================] - 1s 7ms/step - loss: 5.6216e-05 - mse: 5.6216e-05 - val_loss: 6.8195e-04 - val_mse: 6.8195e-04\n",
            "Epoch 18/50\n",
            "150/150 [==============================] - 1s 6ms/step - loss: 5.2525e-05 - mse: 5.2525e-05 - val_loss: 0.0018 - val_mse: 0.0018\n",
            "Epoch 19/50\n",
            "144/150 [===========================>..] - ETA: 0s - loss: 4.7242e-05 - mse: 4.7242e-05"
          ]
        },
        {
          "name": "stderr",
          "output_type": "stream",
          "text": [
            "WARNING:absl:Found untraced functions such as _update_step_xla, lstm_cell_layer_call_fn, lstm_cell_layer_call_and_return_conditional_losses, lstm_cell_1_layer_call_fn, lstm_cell_1_layer_call_and_return_conditional_losses while saving (showing 5 of 5). These functions will not be directly callable after loading.\n"
          ]
        },
        {
          "name": "stdout",
          "output_type": "stream",
          "text": [
            "\b\b\b\b\b\b\b\b\b\b\b\b\b\b\b\b\b\b\b\b\b\b\b\b\b\b\b\b\b\b\b\b\b\b\b\b\b\b\b\b\b\b\b\b\b\b\b\b\b\b\b\b\b\b\b\b\b\b\b\b\b\b\b\b\b\b\b\b\b\b\b\b\b\b\b\b\b\b\b\b\b\b\b\b\b\b\b\r150/150 [==============================] - 10s 66ms/step - loss: 4.6867e-05 - mse: 4.6867e-05 - val_loss: 4.4563e-04 - val_mse: 4.4563e-04\n",
            "Epoch 20/50\n",
            "150/150 [==============================] - 1s 6ms/step - loss: 7.2885e-05 - mse: 7.2885e-05 - val_loss: 6.2439e-04 - val_mse: 6.2439e-04\n",
            "Epoch 21/50\n",
            "150/150 [==============================] - 1s 6ms/step - loss: 4.1117e-05 - mse: 4.1117e-05 - val_loss: 5.5894e-04 - val_mse: 5.5894e-04\n",
            "Epoch 22/50\n",
            "150/150 [==============================] - 1s 6ms/step - loss: 5.3428e-05 - mse: 5.3428e-05 - val_loss: 5.8845e-04 - val_mse: 5.8845e-04\n",
            "Epoch 23/50\n",
            "150/150 [==============================] - 1s 6ms/step - loss: 7.4127e-05 - mse: 7.4127e-05 - val_loss: 6.8743e-04 - val_mse: 6.8743e-04\n",
            "Epoch 24/50\n",
            "150/150 [==============================] - 1s 7ms/step - loss: 6.2937e-05 - mse: 6.2937e-05 - val_loss: 6.4406e-04 - val_mse: 6.4406e-04\n",
            "Epoch 25/50\n",
            "150/150 [==============================] - 1s 6ms/step - loss: 3.9179e-05 - mse: 3.9179e-05 - val_loss: 6.7249e-04 - val_mse: 6.7249e-04\n",
            "Epoch 26/50\n",
            "150/150 [==============================] - 1s 6ms/step - loss: 4.2315e-05 - mse: 4.2315e-05 - val_loss: 5.6354e-04 - val_mse: 5.6354e-04\n",
            "Epoch 27/50\n",
            "150/150 [==============================] - 1s 8ms/step - loss: 5.3852e-05 - mse: 5.3852e-05 - val_loss: 0.0016 - val_mse: 0.0016\n",
            "Epoch 28/50\n",
            "150/150 [==============================] - 2s 10ms/step - loss: 5.0483e-05 - mse: 5.0483e-05 - val_loss: 9.2184e-04 - val_mse: 9.2184e-04\n",
            "Epoch 29/50\n",
            "150/150 [==============================] - 3s 18ms/step - loss: 6.4488e-05 - mse: 6.4488e-05 - val_loss: 6.2587e-04 - val_mse: 6.2587e-04\n",
            "Epoch 30/50\n",
            "150/150 [==============================] - 1s 7ms/step - loss: 4.4933e-05 - mse: 4.4933e-05 - val_loss: 9.9603e-04 - val_mse: 9.9603e-04\n",
            "Epoch 31/50\n",
            "150/150 [==============================] - 1s 7ms/step - loss: 5.4328e-05 - mse: 5.4328e-05 - val_loss: 4.7315e-04 - val_mse: 4.7315e-04\n",
            "Epoch 32/50\n",
            "150/150 [==============================] - 1s 7ms/step - loss: 5.4499e-05 - mse: 5.4499e-05 - val_loss: 0.0011 - val_mse: 0.0011\n",
            "Epoch 33/50\n",
            "150/150 [==============================] - 1s 6ms/step - loss: 5.3628e-05 - mse: 5.3628e-05 - val_loss: 7.4851e-04 - val_mse: 7.4851e-04\n",
            "Epoch 34/50\n",
            "150/150 [==============================] - 1s 7ms/step - loss: 5.8545e-05 - mse: 5.8545e-05 - val_loss: 0.0010 - val_mse: 0.0010\n",
            "Epoch 35/50\n",
            "150/150 [==============================] - 1s 6ms/step - loss: 5.8197e-05 - mse: 5.8197e-05 - val_loss: 5.4920e-04 - val_mse: 5.4920e-04\n",
            "Epoch 36/50\n",
            "150/150 [==============================] - 1s 7ms/step - loss: 4.1284e-05 - mse: 4.1284e-05 - val_loss: 5.6298e-04 - val_mse: 5.6298e-04\n",
            "Epoch 37/50\n",
            "150/150 [==============================] - 1s 6ms/step - loss: 4.0551e-05 - mse: 4.0551e-05 - val_loss: 6.3801e-04 - val_mse: 6.3801e-04\n",
            "Epoch 38/50\n",
            "150/150 [==============================] - 1s 6ms/step - loss: 4.8430e-05 - mse: 4.8430e-05 - val_loss: 4.8548e-04 - val_mse: 4.8548e-04\n",
            "Epoch 39/50\n",
            "150/150 [==============================] - 1s 6ms/step - loss: 3.4487e-05 - mse: 3.4487e-05 - val_loss: 5.0985e-04 - val_mse: 5.0985e-04\n",
            "Epoch 40/50\n",
            "150/150 [==============================] - 1s 8ms/step - loss: 5.2539e-05 - mse: 5.2539e-05 - val_loss: 6.2532e-04 - val_mse: 6.2532e-04\n",
            "Epoch 41/50\n",
            "150/150 [==============================] - 1s 9ms/step - loss: 5.1127e-05 - mse: 5.1127e-05 - val_loss: 4.7766e-04 - val_mse: 4.7766e-04\n",
            "Epoch 42/50\n",
            "150/150 [==============================] - 1s 7ms/step - loss: 5.1579e-05 - mse: 5.1579e-05 - val_loss: 0.0016 - val_mse: 0.0016\n",
            "Epoch 43/50\n",
            "150/150 [==============================] - 1s 6ms/step - loss: 3.2079e-05 - mse: 3.2079e-05 - val_loss: 5.1282e-04 - val_mse: 5.1282e-04\n",
            "Epoch 44/50\n",
            "150/150 [==============================] - 1s 6ms/step - loss: 5.9769e-05 - mse: 5.9769e-05 - val_loss: 9.2108e-04 - val_mse: 9.2108e-04\n",
            "Epoch 45/50\n",
            "150/150 [==============================] - 1s 7ms/step - loss: 5.7807e-05 - mse: 5.7807e-05 - val_loss: 5.0361e-04 - val_mse: 5.0361e-04\n",
            "Epoch 46/50\n",
            "150/150 [==============================] - 1s 7ms/step - loss: 3.8091e-05 - mse: 3.8091e-05 - val_loss: 6.6226e-04 - val_mse: 6.6226e-04\n",
            "Epoch 47/50\n",
            "150/150 [==============================] - 1s 7ms/step - loss: 4.5422e-05 - mse: 4.5422e-05 - val_loss: 4.7789e-04 - val_mse: 4.7789e-04\n",
            "Epoch 48/50\n",
            "150/150 [==============================] - 1s 7ms/step - loss: 4.1958e-05 - mse: 4.1958e-05 - val_loss: 9.1865e-04 - val_mse: 9.1865e-04\n",
            "Epoch 49/50\n",
            "150/150 [==============================] - 1s 6ms/step - loss: 4.0381e-05 - mse: 4.0381e-05 - val_loss: 6.4258e-04 - val_mse: 6.4258e-04\n",
            "Epoch 50/50\n",
            "150/150 [==============================] - 1s 6ms/step - loss: 1.0599e-04 - mse: 1.0599e-04 - val_loss: 4.8772e-04 - val_mse: 4.8772e-04\n"
          ]
        }
      ],
      "source": [
        "history_lstm = lstm_model.fit(trainX, trainY,\n",
        "                              epochs=50,\n",
        "                              validation_data=(testX, testY),\n",
        "                              callbacks=[create_tensorboard_callback(dir_name='NVIDIA STOCK Price',\n",
        "                                                                     experiment_name='LSTM Model'),\n",
        "                                         create_model_checkpoint(model_name='LSTM_model')])"
      ]
    },
    {
      "cell_type": "code",
      "execution_count": 34,
      "metadata": {
        "colab": {
          "base_uri": "https://localhost:8080/"
        },
        "id": "nLwj0-BsB6_F",
        "outputId": "e650570d-e92c-4d9c-9349-1f78aafe2cf9"
      },
      "outputs": [
        {
          "name": "stdout",
          "output_type": "stream",
          "text": [
            "Model: \"sequential\"\n",
            "_________________________________________________________________\n",
            " Layer (type)                Output Shape              Param #   \n",
            "=================================================================\n",
            " lstm (LSTM)                 (None, 1, 128)            69632     \n",
            "                                                                 \n",
            " lstm_1 (LSTM)               (None, 128)               131584    \n",
            "                                                                 \n",
            " dense (Dense)               (None, 128)               16512     \n",
            "                                                                 \n",
            " dense_1 (Dense)             (None, 64)                8256      \n",
            "                                                                 \n",
            " dense_2 (Dense)             (None, 32)                2080      \n",
            "                                                                 \n",
            " dense_3 (Dense)             (None, 1)                 33        \n",
            "                                                                 \n",
            "=================================================================\n",
            "Total params: 228,097\n",
            "Trainable params: 228,097\n",
            "Non-trainable params: 0\n",
            "_________________________________________________________________\n"
          ]
        }
      ],
      "source": [
        "lstm_model.summary()"
      ]
    },
    {
      "cell_type": "markdown",
      "metadata": {
        "id": "f_YX0EIhihr6"
      },
      "source": [
        "## Evaluating our different Modelling Experiments"
      ]
    },
    {
      "cell_type": "code",
      "execution_count": 35,
      "metadata": {
        "colab": {
          "base_uri": "https://localhost:8080/"
        },
        "id": "cUejwYavxIrr",
        "outputId": "4c2297f1-4cd3-499b-e2f1-74eefc0d3a59"
      },
      "outputs": [
        {
          "name": "stdout",
          "output_type": "stream",
          "text": [
            "8/8 [==============================] - 0s 3ms/step - loss: 4.8772e-04 - mse: 4.8772e-04\n"
          ]
        },
        {
          "data": {
            "text/plain": [
              "[0.00048772181617096066, 0.00048772181617096066]"
            ]
          },
          "execution_count": 35,
          "metadata": {},
          "output_type": "execute_result"
        }
      ],
      "source": [
        "lstm_model.evaluate(testX, testY)"
      ]
    },
    {
      "cell_type": "code",
      "execution_count": 36,
      "metadata": {
        "colab": {
          "base_uri": "https://localhost:8080/"
        },
        "id": "Cx8CEdmYxM6j",
        "outputId": "ec434881-1688-4367-ae3a-ac08a031055c"
      },
      "outputs": [
        {
          "name": "stdout",
          "output_type": "stream",
          "text": [
            "8/8 [==============================] - 1s 5ms/step - loss: 4.4563e-04 - mse: 4.4563e-04\n"
          ]
        },
        {
          "data": {
            "text/plain": [
              "[0.00044562696712091565, 0.00044562696712091565]"
            ]
          },
          "execution_count": 36,
          "metadata": {},
          "output_type": "execute_result"
        }
      ],
      "source": [
        "lstm_model = tf.keras.models.load_model('/content/model_experiments/LSTM_model')\n",
        "lstm_model.evaluate(testX, testY)"
      ]
    },
    {
      "cell_type": "code",
      "execution_count": 37,
      "metadata": {
        "colab": {
          "base_uri": "https://localhost:8080/"
        },
        "id": "QBa0VotFxj-4",
        "outputId": "2183fa3d-bf3a-4022-d084-002a35cfdef0"
      },
      "outputs": [
        {
          "name": "stdout",
          "output_type": "stream",
          "text": [
            "150/150 [==============================] - 0s 3ms/step - loss: 4.3601e-05 - mse: 4.3601e-05\n"
          ]
        },
        {
          "data": {
            "text/plain": [
              "[4.360107413958758e-05, 4.360107413958758e-05]"
            ]
          },
          "execution_count": 37,
          "metadata": {},
          "output_type": "execute_result"
        }
      ],
      "source": [
        "lstm_model.evaluate(trainX, trainY)"
      ]
    },
    {
      "cell_type": "code",
      "execution_count": 38,
      "metadata": {
        "colab": {
          "base_uri": "https://localhost:8080/"
        },
        "id": "JFc6xtVW1_lm",
        "outputId": "ba7b1f2e-9a5f-4055-a4e8-ff0076e85a5b"
      },
      "outputs": [
        {
          "name": "stdout",
          "output_type": "stream",
          "text": [
            "8/8 [==============================] - 1s 3ms/step\n"
          ]
        }
      ],
      "source": [
        "y_preds = lstm_model.predict(testX)"
      ]
    },
    {
      "cell_type": "code",
      "execution_count": 39,
      "metadata": {
        "colab": {
          "base_uri": "https://localhost:8080/"
        },
        "id": "ExAKOeWj38hs",
        "outputId": "9a3f9fd6-747f-49ca-9a76-029b97403d8f"
      },
      "outputs": [
        {
          "name": "stdout",
          "output_type": "stream",
          "text": [
            "150/150 [==============================] - 0s 2ms/step\n"
          ]
        }
      ],
      "source": [
        "train_y_preds = lstm_model.predict(trainX)"
      ]
    },
    {
      "cell_type": "code",
      "execution_count": 40,
      "metadata": {
        "id": "3rlQpTXY2VUz"
      },
      "outputs": [],
      "source": [
        "def evaluate_preds(y_true, y_pred):\n",
        "  # Make sure float32 (for metric calculations)\n",
        "  y_true = tf.cast(y_true, dtype=tf.float32)\n",
        "  y_pred = tf.cast(y_pred, dtype=tf.float32)\n",
        "\n",
        "  # Calculate various metrics\n",
        "  mae = tf.keras.metrics.mean_absolute_error(y_true, y_pred)\n",
        "  mse = tf.keras.metrics.mean_squared_error(y_true, y_pred) # puts and emphasis on outliers (all errors get squared)\n",
        "  rmse = tf.sqrt(mse)\n",
        "  mape = tf.keras.metrics.mean_absolute_percentage_error(y_true, y_pred)\n",
        "\n",
        "  return {\"mae\": mae.numpy(),\n",
        "          \"mse\": mse.numpy(),\n",
        "          \"rmse\": rmse.numpy(),\n",
        "          \"mape\": mape.numpy()}"
      ]
    },
    {
      "cell_type": "code",
      "execution_count": 41,
      "metadata": {
        "colab": {
          "base_uri": "https://localhost:8080/"
        },
        "id": "wXKDkGdM2hWm",
        "outputId": "20743822-30d2-4ccb-dbbb-4474098dbd9c"
      },
      "outputs": [
        {
          "data": {
            "text/plain": [
              "{'mae': 0.014787502,\n",
              " 'mse': 0.00044562697,\n",
              " 'rmse': 0.021109877,\n",
              " 'mape': 2.9271536}"
            ]
          },
          "execution_count": 41,
          "metadata": {},
          "output_type": "execute_result"
        }
      ],
      "source": [
        "evaluate_preds(testY, tf.squeeze(y_preds))"
      ]
    },
    {
      "cell_type": "markdown",
      "metadata": {
        "id": "C05DyxCBxtb1"
      },
      "source": [
        "## Visualizing our data"
      ]
    },
    {
      "cell_type": "code",
      "execution_count": 42,
      "metadata": {
        "colab": {
          "base_uri": "https://localhost:8080/",
          "height": 452
        },
        "id": "OvxbuiePCBJ1",
        "outputId": "71cfd6a3-9829-4a91-b7d8-a090cc46a49f"
      },
      "outputs": [
        {
          "data": {
            "image/png": "[encoded data removed]",
            "text/plain": [
              "<Figure size 640x480 with 1 Axes>"
            ]
          },
          "metadata": {},
          "output_type": "display_data"
        }
      ],
      "source": [
        "## visualizing our data\n",
        "plt.plot(test_data[7:len(df)-(7+1)], label='Test Data')\n",
        "plt.plot(y_preds, label='Predictions')\n",
        "plt.legend()\n",
        "plt.title('Test Data vs Predictions')\n",
        "plt.show()"
      ]
    },
    {
      "cell_type": "code",
      "execution_count": 43,
      "metadata": {
        "colab": {
          "base_uri": "https://localhost:8080/",
          "height": 452
        },
        "id": "zJrLXRU0MA-B",
        "outputId": "268be51f-c4d1-4164-a50a-36d0e210eb88"
      },
      "outputs": [
        {
          "data": {
            "image/png": "[encoded data removed]",
            "text/plain": [
              "<Figure size 640x480 with 1 Axes>"
            ]
          },
          "metadata": {},
          "output_type": "display_data"
        }
      ],
      "source": [
        "## visualizing our data\n",
        "plt.plot(train_data[7:len(df)-(7+1)], label='Train Data')\n",
        "plt.plot(train_y_preds, label='Predictions')\n",
        "plt.legend()\n",
        "plt.title('Train Data vs Predictions')\n",
        "plt.show()"
      ]
    },
    {
      "cell_type": "markdown",
      "metadata": {
        "id": "YrbLfLUzMODA"
      },
      "source": [
        "## Viewing our model's training results in TensorBoard"
      ]
    },
    {
      "cell_type": "code",
      "execution_count": 44,
      "metadata": {
        "colab": {
          "base_uri": "https://localhost:8080/"
        },
        "id": "6FYo2-MpMbgf",
        "outputId": "5c51d755-6763-4974-b701-a11cfd5e09e9"
      },
      "outputs": [
        {
          "name": "stdout",
          "output_type": "stream",
          "text": [
            "2023-08-25 06:21:16.720776: W tensorflow/compiler/tf2tensorrt/utils/py_utils.cc:38] TF-TRT Warning: Could not find TensorRT\n",
            "\n",
            "***** TensorBoard Uploader *****\n",
            "\n",
            "This will upload your TensorBoard logs to https://tensorboard.dev/ from\n",
            "the following directory:\n",
            "\n",
            "./NVIDIA STOCK Price\n",
            "\n",
            "This TensorBoard will be visible to everyone. Do not upload sensitive\n",
            "data.\n",
            "\n",
            "Your use of this service is subject to Google's Terms of Service\n",
            "<https://policies.google.com/terms> and Privacy Policy\n",
            "<https://policies.google.com/privacy>, and TensorBoard.dev's Terms of Service\n",
            "<https://tensorboard.dev/policy/terms/>.\n",
            "\n",
            "This notice will not be shown again while you are logged into the uploader.\n",
            "To log out, run `tensorboard dev auth revoke`.\n",
            "\n",
            "Continue? (yes/NO) yes\n",
            "\n",
            "To sign in with the TensorBoard uploader:\n",
            "\n",
            "1. On your computer or phone, visit:\n",
            "\n",
            "   https://www.google.com/device\n",
            "\n",
            "2. Sign in with your Google account, then enter:\n",
            "\n",
            "   GVQ-LQV-GBY\n",
            "\n",
            "\n",
            "\n",
            "New experiment created. View your TensorBoard at: https://tensorboard.dev/experiment/Jo62SqKERnCQr5tyiYgzRQ/\n",
            "\n",
            "\u001b[1m[2023-08-25T06:22:54]\u001b[0m Started scanning logdir.\n",
            "\u001b[1m[2023-08-25T06:22:55]\u001b[0m Total uploaded: 300 scalars, 0 tensors, 1 binary objects (428.4 kB)\n",
            "\u001b[1m[2023-08-25T06:22:55]\u001b[0m Done scanning logdir.\n",
            "\n",
            "\n",
            "Done. View your TensorBoard at https://tensorboard.dev/experiment/Jo62SqKERnCQr5tyiYgzRQ/\n"
          ]
        }
      ],
      "source": [
        "# View tensorboard logs of transfer learning modelling experiments (should be 4 models)\n",
        "# Upload TensorBoard dev records\n",
        "!tensorboard dev upload --logdir ./NVIDIA\\ STOCK\\ Price\\\n",
        "  --name \"NVIDIA Stock Price Forecasting\" \\\n",
        "  --description \"Forecasts the Price of NVIDIA Stock\" \\\n",
        "  --one_shot # exits the uploader when upload has finished"
      ]
    },
    {
      "cell_type": "markdown",
      "metadata": {
        "id": "Uzt2nYZ5NA0C"
      },
      "source": [
        "## Future Forecasting"
      ]
    },
    {
      "cell_type": "code",
      "execution_count": 45,
      "metadata": {
        "colab": {
          "base_uri": "https://localhost:8080/"
        },
        "id": "FF_pwdFlNFgr",
        "outputId": "84e7c2e7-593e-4c1c-fc2a-a65ccb0f44be"
      },
      "outputs": [
        {
          "data": {
            "text/plain": [
              "(array([[0.9211016 , 0.92504546, 0.9154705 , 0.91247572, 0.91152664,\n",
              "         0.98888549, 0.9614893 ]]),\n",
              " (1, 7))"
            ]
          },
          "execution_count": 45,
          "metadata": {},
          "output_type": "execute_result"
        }
      ],
      "source": [
        "inputs = testX[-1]\n",
        "inputs, inputs.shape"
      ]
    },
    {
      "cell_type": "code",
      "execution_count": 46,
      "metadata": {
        "colab": {
          "base_uri": "https://localhost:8080/"
        },
        "id": "kuWPrMfSVgaj",
        "outputId": "dd8bcbd9-8391-4999-abe3-89aa94939115"
      },
      "outputs": [
        {
          "data": {
            "text/plain": [
              "array([[437.529999, 439.399994, 434.859985, 433.440002, 432.98999 ,\n",
              "        469.670013, 456.679993]])"
            ]
          },
          "execution_count": 46,
          "metadata": {},
          "output_type": "execute_result"
        }
      ],
      "source": [
        "scaler.inverse_transform(testX[-1])"
      ]
    },
    {
      "cell_type": "code",
      "execution_count": 47,
      "metadata": {
        "colab": {
          "base_uri": "https://localhost:8080/"
        },
        "id": "hXp0Onx7N-Ki",
        "outputId": "c5680380-b45f-4481-ceaf-75ed5fcd0713"
      },
      "outputs": [
        {
          "name": "stdout",
          "output_type": "stream",
          "text": [
            "Day 0: \n",
            " Inputs (shape=(1, 7)): \n",
            " [[437.529999 439.399994 434.859985 433.440002 432.98999  469.670013\n",
            "  456.679993]]\n",
            "1/1 [==============================] - 1s 615ms/step\n",
            "Outputs : \n",
            " [[459.23654]]\n",
            "Day 1: \n",
            " Inputs (shape=(1, 7)): \n",
            " [[439.399994   434.859985   433.440002   432.98999    469.670013\n",
            "  456.679993   459.23656403]]\n",
            "1/1 [==============================] - 0s 18ms/step\n",
            "Outputs : \n",
            " [[461.97818]]\n",
            "Day 2: \n",
            " Inputs (shape=(1, 7)): \n",
            " [[434.859985   433.440002   432.98999    469.670013   456.679993\n",
            "  459.23656403 461.97818383]]\n",
            "1/1 [==============================] - 0s 20ms/step\n",
            "Outputs : \n",
            " [[462.86993]]\n",
            "Day 3: \n",
            " Inputs (shape=(1, 7)): \n",
            " [[433.440002   432.98999    469.670013   456.679993   459.23656403\n",
            "  461.97818383 462.86995638]]\n",
            "1/1 [==============================] - 0s 19ms/step\n",
            "Outputs : \n",
            " [[464.66513]]\n",
            "Day 4: \n",
            " Inputs (shape=(1, 7)): \n",
            " [[432.98999    469.670013   456.679993   459.23656403 461.97818383\n",
            "  462.86995638 464.66514533]]\n",
            "1/1 [==============================] - 0s 19ms/step\n",
            "Outputs : \n",
            " [[465.25806]]\n",
            "Day 5: \n",
            " Inputs (shape=(1, 7)): \n",
            " [[469.670013   456.679993   459.23656403 461.97818383 462.86995638\n",
            "  464.66514533 465.2580777 ]]\n",
            "1/1 [==============================] - 0s 17ms/step\n",
            "Outputs : \n",
            " [[462.317]]\n",
            "Day 6: \n",
            " Inputs (shape=(1, 7)): \n",
            " [[456.679993   459.23656403 461.97818383 462.86995638 464.66514533\n",
            "  465.2580777  462.31698618]]\n",
            "1/1 [==============================] - 0s 25ms/step\n",
            "Outputs : \n",
            " [[462.3411]]\n",
            "Day 7: \n",
            " Inputs (shape=(1, 7)): \n",
            " [[459.23656403 461.97818383 462.86995638 464.66514533 465.2580777\n",
            "  462.31698618 462.34112175]]\n",
            "1/1 [==============================] - 0s 18ms/step\n",
            "Outputs : \n",
            " [[461.00424]]\n",
            "Day 8: \n",
            " Inputs (shape=(1, 7)): \n",
            " [[461.97818383 462.86995638 464.66514533 465.2580777  462.31698618\n",
            "  462.34112175 461.00425426]]\n",
            "1/1 [==============================] - 0s 20ms/step\n",
            "Outputs : \n",
            " [[459.3158]]\n",
            "Day 9: \n",
            " Inputs (shape=(1, 7)): \n",
            " [[462.86995638 464.66514533 465.2580777  462.31698618 462.34112175\n",
            "  461.00425426 459.31581009]]\n",
            "1/1 [==============================] - 0s 19ms/step\n",
            "Outputs : \n",
            " [[457.6375]]\n",
            "Day 10: \n",
            " Inputs (shape=(1, 7)): \n",
            " [[464.66514533 465.2580777  462.31698618 462.34112175 461.00425426\n",
            "  459.31581009 457.63751191]]\n",
            "1/1 [==============================] - 0s 21ms/step\n",
            "Outputs : \n",
            " [[455.5953]]\n",
            "Day 11: \n",
            " Inputs (shape=(1, 7)): \n",
            " [[465.2580777  462.31698618 462.34112175 461.00425426 459.31581009\n",
            "  457.63751191 455.5953149 ]]\n",
            "1/1 [==============================] - 0s 19ms/step\n",
            "Outputs : \n",
            " [[453.5442]]\n",
            "Day 12: \n",
            " Inputs (shape=(1, 7)): \n",
            " [[462.31698618 462.34112175 461.00425426 459.31581009 457.63751191\n",
            "  455.5953149  453.54421543]]\n",
            "1/1 [==============================] - 0s 18ms/step\n",
            "Outputs : \n",
            " [[451.70404]]\n",
            "Day 13: \n",
            " Inputs (shape=(1, 7)): \n",
            " [[462.34112175 461.00425426 459.31581009 457.63751191 455.5953149\n",
            "  453.54421543 451.70406197]]\n",
            "1/1 [==============================] - 0s 18ms/step\n",
            "Outputs : \n",
            " [[449.63815]]\n",
            "Day 14: \n",
            " Inputs (shape=(1, 7)): \n",
            " [[461.00425426 459.31581009 457.63751191 455.5953149  453.54421543\n",
            "  451.70406197 449.63815333]]\n",
            "1/1 [==============================] - 0s 19ms/step\n",
            "Outputs : \n",
            " [[447.6807]]\n",
            "Day 15: \n",
            " Inputs (shape=(1, 7)): \n",
            " [[459.31581009 457.63751191 455.5953149  453.54421543 451.70406197\n",
            "  449.63815333 447.68071343]]\n",
            "1/1 [==============================] - 0s 20ms/step\n",
            "Outputs : \n",
            " [[445.79474]]\n",
            "Day 16: \n",
            " Inputs (shape=(1, 7)): \n",
            " [[457.63751191 455.5953149  453.54421543 451.70406197 449.63815333\n",
            "  447.68071343 445.79474761]]\n",
            "1/1 [==============================] - 0s 19ms/step\n",
            "Outputs : \n",
            " [[443.9667]]\n",
            "Day 17: \n",
            " Inputs (shape=(1, 7)): \n",
            " [[455.5953149  453.54421543 451.70406197 449.63815333 447.68071343\n",
            "  445.79474761 443.96671845]]\n",
            "1/1 [==============================] - 0s 20ms/step\n",
            "Outputs : \n",
            " [[442.25793]]\n",
            "Day 18: \n",
            " Inputs (shape=(1, 7)): \n",
            " [[453.54421543 451.70406197 449.63815333 447.68071343 445.79474761\n",
            "  443.96671845 442.25795406]]\n",
            "1/1 [==============================] - 0s 19ms/step\n",
            "Outputs : \n",
            " [[440.6474]]\n",
            "Day 19: \n",
            " Inputs (shape=(1, 7)): \n",
            " [[451.70406197 449.63815333 447.68071343 445.79474761 443.96671845\n",
            "  442.25795406 440.64739938]]\n",
            "1/1 [==============================] - 0s 26ms/step\n",
            "Outputs : \n",
            " [[439.1272]]\n",
            "Day 20: \n",
            " Inputs (shape=(1, 7)): \n",
            " [[449.63815333 447.68071343 445.79474761 443.96671845 442.25795406\n",
            "  440.64739938 439.12722592]]\n",
            "1/1 [==============================] - 0s 20ms/step\n",
            "Outputs : \n",
            " [[437.7342]]\n",
            "Day 21: \n",
            " Inputs (shape=(1, 7)): \n",
            " [[447.68071343 445.79474761 443.96671845 442.25795406 440.64739938\n",
            "  439.12722592 437.73420225]]\n",
            "1/1 [==============================] - 0s 20ms/step\n",
            "Outputs : \n",
            " [[436.44733]]\n",
            "Day 22: \n",
            " Inputs (shape=(1, 7)): \n",
            " [[445.79474761 443.96671845 442.25795406 440.64739938 439.12722592\n",
            "  437.73420225 436.44732987]]\n",
            "1/1 [==============================] - 0s 19ms/step\n",
            "Outputs : \n",
            " [[435.26892]]\n",
            "Day 23: \n",
            " Inputs (shape=(1, 7)): \n",
            " [[443.96671845 442.25795406 440.64739938 439.12722592 437.73420225\n",
            "  436.44732987 435.26892624]]\n",
            "1/1 [==============================] - 0s 20ms/step\n",
            "Outputs : \n",
            " [[434.19855]]\n",
            "Day 24: \n",
            " Inputs (shape=(1, 7)): \n",
            " [[442.25795406 440.64739938 439.12722592 437.73420225 436.44732987\n",
            "  435.26892624 434.19856743]]\n",
            "1/1 [==============================] - 0s 21ms/step\n",
            "Outputs : \n",
            " [[433.22733]]\n",
            "Day 25: \n",
            " Inputs (shape=(1, 7)): \n",
            " [[440.64739938 439.12722592 437.73420225 436.44732987 435.26892624\n",
            "  434.19856743 433.22735099]]\n",
            "1/1 [==============================] - 0s 24ms/step\n",
            "Outputs : \n",
            " [[432.3525]]\n",
            "Day 26: \n",
            " Inputs (shape=(1, 7)): \n",
            " [[439.12722592 437.73420225 436.44732987 435.26892624 434.19856743\n",
            "  433.22735099 432.35253552]]\n",
            "1/1 [==============================] - 0s 20ms/step\n",
            "Outputs : \n",
            " [[431.5694]]\n",
            "Day 27: \n",
            " Inputs (shape=(1, 7)): \n",
            " [[437.73420225 436.44732987 435.26892624 434.19856743 433.22735099\n",
            "  432.35253552 431.5694013 ]]\n",
            "1/1 [==============================] - 0s 18ms/step\n",
            "Outputs : \n",
            " [[430.8694]]\n",
            "Day 28: \n",
            " Inputs (shape=(1, 7)): \n",
            " [[436.44732987 435.26892624 434.19856743 433.22735099 432.35253552\n",
            "  431.5694013  430.86941326]]\n",
            "1/1 [==============================] - 0s 20ms/step\n",
            "Outputs : \n",
            " [[430.2478]]\n",
            "Day 29: \n",
            " Inputs (shape=(1, 7)): \n",
            " [[435.26892624 434.19856743 433.22735099 432.35253552 431.5694013\n",
            "  430.86941326 430.24782343]]\n",
            "1/1 [==============================] - 0s 19ms/step\n",
            "Outputs : \n",
            " [[429.69815]]\n"
          ]
        }
      ],
      "source": [
        "inputs = testX[-1]\n",
        "predictions = []\n",
        "for i in range(30):\n",
        "  print(f'Day {i}: \\n Inputs (shape={inputs.shape}): \\n {scaler.inverse_transform(inputs)}')\n",
        "  y_preds = lstm_model.predict(tf.expand_dims(inputs, axis=0))\n",
        "  # Perform the left shift and replace\n",
        "  inputs[:, :-1] = inputs[:, 1:]\n",
        "  inputs[:, -1] = y_preds\n",
        "  predictions.append(tf.squeeze(scaler.inverse_transform(y_preds)))\n",
        "  print(f'Outputs : \\n {scaler.inverse_transform(y_preds)}')"
      ]
    },
    {
      "cell_type": "code",
      "execution_count": 49,
      "metadata": {
        "id": "YReiwdAcQ-HK"
      },
      "outputs": [],
      "source": [
        "predictions = np.array(predictions)"
      ]
    },
    {
      "cell_type": "code",
      "execution_count": 50,
      "metadata": {
        "colab": {
          "base_uri": "https://localhost:8080/"
        },
        "id": "eN1j6d07XPU9",
        "outputId": "f53b71b9-9e93-4ebe-bc86-b23048258bf2"
      },
      "outputs": [
        {
          "data": {
            "text/plain": [
              "(array([459.23654, 461.97818, 462.86993, 464.66513, 465.25806, 462.317  ,\n",
              "        462.3411 , 461.00424, 459.3158 , 457.6375 , 455.5953 , 453.5442 ,\n",
              "        451.70404, 449.63815, 447.6807 , 445.79474, 443.9667 , 442.25793,\n",
              "        440.6474 , 439.1272 , 437.7342 , 436.44733, 435.26892, 434.19855,\n",
              "        433.22733, 432.3525 , 431.5694 , 430.8694 , 430.2478 , 429.69815],\n",
              "       dtype=float32),\n",
              " (30,))"
            ]
          },
          "execution_count": 50,
          "metadata": {},
          "output_type": "execute_result"
        }
      ],
      "source": [
        "predictions, predictions.shape"
      ]
    },
    {
      "cell_type": "code",
      "execution_count": 51,
      "metadata": {
        "id": "bpcnEkZVQGty"
      },
      "outputs": [],
      "source": [
        "today = np.datetime64(datetime.date.today())\n",
        "date_array = today + np.arange(30)"
      ]
    },
    {
      "cell_type": "code",
      "execution_count": 52,
      "metadata": {
        "colab": {
          "base_uri": "https://localhost:8080/"
        },
        "id": "22rI_UioRZPo",
        "outputId": "3297dfd7-0b6f-445d-b3b4-8a33c6691e42"
      },
      "outputs": [
        {
          "data": {
            "text/plain": [
              "array(['2023-08-25', '2023-08-26', '2023-08-27', '2023-08-28',\n",
              "       '2023-08-29', '2023-08-30', '2023-08-31', '2023-09-01',\n",
              "       '2023-09-02', '2023-09-03', '2023-09-04', '2023-09-05',\n",
              "       '2023-09-06', '2023-09-07', '2023-09-08', '2023-09-09',\n",
              "       '2023-09-10', '2023-09-11', '2023-09-12', '2023-09-13',\n",
              "       '2023-09-14', '2023-09-15', '2023-09-16', '2023-09-17',\n",
              "       '2023-09-18', '2023-09-19', '2023-09-20', '2023-09-21',\n",
              "       '2023-09-22', '2023-09-23'], dtype='datetime64[D]')"
            ]
          },
          "execution_count": 52,
          "metadata": {},
          "output_type": "execute_result"
        }
      ],
      "source": [
        "date_array"
      ]
    },
    {
      "cell_type": "code",
      "execution_count": 53,
      "metadata": {
        "colab": {
          "base_uri": "https://localhost:8080/"
        },
        "id": "ENixoUNdUtuL",
        "outputId": "2013fbc3-c687-4354-c9d1-834a2d843d8c"
      },
      "outputs": [
        {
          "data": {
            "text/plain": [
              "((30,), (252, 1))"
            ]
          },
          "execution_count": 53,
          "metadata": {},
          "output_type": "execute_result"
        }
      ],
      "source": [
        "predictions.shape, test_data.shape"
      ]
    },
    {
      "cell_type": "code",
      "execution_count": 54,
      "metadata": {
        "colab": {
          "base_uri": "https://localhost:8080/",
          "height": 448
        },
        "id": "8BgqPlNIPxRq",
        "outputId": "75bc9227-98f6-425e-a56e-e97b334b6c0d"
      },
      "outputs": [
        {
          "data": {
            "text/plain": [
              "[<matplotlib.lines.Line2D at 0x7be2b7edc7f0>]"
            ]
          },
          "execution_count": 54,
          "metadata": {},
          "output_type": "execute_result"
        },
        {
          "data": {
            "image/png": "[encoded data removed]",
            "text/plain": [
              "<Figure size 640x480 with 1 Axes>"
            ]
          },
          "metadata": {},
          "output_type": "display_data"
        }
      ],
      "source": [
        "# Visualizing our Future 30 Days predictions\n",
        "plt.plot(df['Date'][-252:], tf.squeeze(scaler.inverse_transform(test_data)))\n",
        "plt.plot(date_array, tf.squeeze(predictions))"
      ]
    },
    {
      "cell_type": "markdown",
      "metadata": {
        "id": "eL6cbceEihuK"
      },
      "source": [
        "## Saving our model"
      ]
    },
    {
      "cell_type": "code",
      "execution_count": 55,
      "metadata": {
        "id": "dR4qXf2tCHhO"
      },
      "outputs": [],
      "source": [
        "lstm_model.save('NVIDIA_lstm_model.h5')"
      ]
    },
    {
      "cell_type": "code",
      "execution_count": 57,
      "metadata": {
        "id": "N0Pv9nWAX4lz"
      },
      "outputs": [],
      "source": [
        "import pickle\n",
        "with open('scaler.pkl', 'wb') as scaler_file:\n",
        "    pickle.dump(scaler, scaler_file)"
      ]
    }
  ],
  "metadata": {
    "accelerator": "GPU",
    "colab": {
      "gpuType": "T4",
      "provenance": []
    },
    "kernelspec": {
      "display_name": "Python 3",
      "name": "python3"
    },
    "language_info": {
      "name": "python"
    }
  },
  "nbformat": 4,
  "nbformat_minor": 0
}
